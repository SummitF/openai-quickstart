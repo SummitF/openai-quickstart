{
 "cells": [
  {
   "cell_type": "code",
   "execution_count": 1,
   "id": "0205b412-14bd-42ee-8898-c74ab811e441",
   "metadata": {},
   "outputs": [],
   "source": [
    "import requests\n",
    "import time\n",
    "import os\n",
    "from typing import Generator\n",
    "\n",
    "import jwt\n",
    "\n",
    "from data_types import TextMsg, ImageMsg, TextMsgList, MsgList, CharacterMeta\n",
    "\n",
    "\n",
    "# 智谱开放平台API key，参考 https://open.bigmodel.cn/usercenter/apikeys\n",
    "API_KEY: str = os.getenv(\"API_KEY\", \"\")"
   ]
  },
  {
   "cell_type": "code",
   "execution_count": 24,
   "id": "00c451eb-456e-4656-8c8b-2843fe4a4ee7",
   "metadata": {},
   "outputs": [],
   "source": [
    "class ApiKeyNotSet(ValueError):\n",
    "    pass\n",
    "\n",
    "\n",
    "def verify_api_key_not_empty():\n",
    "    if not API_KEY:\n",
    "        raise ApiKeyNotSet\n",
    "\n",
    "\n",
    "def generate_token(apikey: str, exp_seconds: int) -> str:\n",
    "    # reference: https://open.bigmodel.cn/dev/api#nosdk\n",
    "    try:\n",
    "        id, secret = apikey.split(\".\")\n",
    "    except Exception as e:\n",
    "        raise Exception(\"invalid apikey\", e)\n",
    " \n",
    "    payload = {\n",
    "        \"api_key\": id,\n",
    "        \"exp\": int(round(time.time() * 1000)) + exp_seconds * 1000,\n",
    "        \"timestamp\": int(round(time.time() * 1000)),\n",
    "    }\n",
    " \n",
    "    return jwt.encode(\n",
    "        payload,\n",
    "        secret,\n",
    "        algorithm=\"HS256\",\n",
    "        headers={\"alg\": \"HS256\", \"sign_type\": \"SIGN\"},\n",
    "    )\n",
    "\n",
    "\n",
    "def get_characterglm_response(messages: TextMsgList, meta: CharacterMeta) -> Generator[str, None, None]:\n",
    "    \"\"\" 通过http调用characterglm \"\"\"\n",
    "    # Reference: https://open.bigmodel.cn/dev/api#characterglm\n",
    "    verify_api_key_not_empty()\n",
    "    url = \"https://open.bigmodel.cn/api/paas/v3/model-api/charglm-3/sse-invoke\"\n",
    "    resp = requests.post(\n",
    "        url,\n",
    "        headers={\"Authorization\": generate_token(API_KEY, 1800)},\n",
    "        json=dict(\n",
    "            model=\"charglm-3\",\n",
    "            meta=meta,\n",
    "            prompt=messages,\n",
    "            incremental=True)\n",
    "    )\n",
    "    resp.raise_for_status()\n",
    "    \n",
    "    # 解析响应（非官方实现）\n",
    "    sep = b':'\n",
    "    last_event = None\n",
    "    for line in resp.iter_lines():\n",
    "        if not line or line.startswith(sep):\n",
    "            continue\n",
    "        field, value = line.split(sep, maxsplit=1)\n",
    "        if field == b'event':\n",
    "            last_event = value\n",
    "        elif field == b'data' and last_event == b'add':\n",
    "            yield value.decode()\n",
    "\n",
    "\n",
    "def get_characterglm_response_via_sdk(messages: TextMsgList, meta: CharacterMeta) -> Generator[str, None, None]:\n",
    "    \"\"\" 通过旧版sdk调用characterglm \"\"\"\n",
    "    # 与get_characterglm_response等价\n",
    "    # Reference: https://open.bigmodel.cn/dev/api#characterglm\n",
    "    # 需要安装旧版sdk，zhipuai==1.0.7\n",
    "    import zhipuai\n",
    "    verify_api_key_not_empty()\n",
    "    zhipuai.api_key = API_KEY\n",
    "    response = zhipuai.model_api.sse_invoke(\n",
    "        model=\"charglm-3\",\n",
    "        meta= meta,\n",
    "        prompt= messages,\n",
    "        incremental=True\n",
    "    )\n",
    "    for event in response.events():\n",
    "        if event.event == 'add':\n",
    "            yield event.data\n",
    "\n",
    "\n",
    "def get_chatglm_response_via_sdk(messages: TextMsgList) -> Generator[str, None, None]:\n",
    "    \"\"\" 通过sdk调用chatglm \"\"\"\n",
    "    # reference: https://open.bigmodel.cn/dev/api#glm-3-turbo  `GLM-3-Turbo`相关内容\n",
    "    # 需要安装新版zhipuai\n",
    "    from zhipuai import ZhipuAI\n",
    "    verify_api_key_not_empty()\n",
    "    client = ZhipuAI(api_key=API_KEY) # 请填写您自己的APIKey\n",
    "    response = client.chat.completions.create(\n",
    "        model=\"glm-4\",  # 填写需要调用的模型名称\n",
    "        messages=messages,\n",
    "        stream=True,\n",
    "    )\n",
    "    for chunk in response:\n",
    "        yield chunk.choices[0].delta.content"
   ]
  },
  {
   "cell_type": "code",
   "execution_count": 25,
   "id": "f48185da-4ee2-450b-843c-091695c73c39",
   "metadata": {},
   "outputs": [],
   "source": [
    "def generate_role_appearance(role_profile: str) -> Generator[str, None, None]:\n",
    "    \"\"\" 用chatglm生成角色的外貌描写 \"\"\"\n",
    "    \n",
    "    instruction = f\"\"\"\n",
    "请从下列文本中，抽取人物的外貌描写。若文本中不包含外貌描写，请你推测人物的性别、年龄，并生成一段外貌描写。要求：\n",
    "1. 只生成外貌描写，不要生成任何多余的内容。\n",
    "2. 外貌描写不能包含敏感词，人物形象需得体。\n",
    "3. 尽量用短语描写，而不是完整的句子。\n",
    "4. 不要超过50字\n",
    "\n",
    "文本：\n",
    "{role_profile}\n",
    "\"\"\"\n",
    "    return get_chatglm_response_via_sdk(\n",
    "        messages=[\n",
    "            {\n",
    "                \"role\": \"user\",\n",
    "                \"content\": instruction.strip()\n",
    "            }\n",
    "        ]\n",
    "    )"
   ]
  },
  {
   "cell_type": "code",
   "execution_count": 32,
   "id": "74350ce2-32e9-4427-9023-8489b49fe08f",
   "metadata": {},
   "outputs": [],
   "source": [
    "def generate_role_info(user_text: str) -> Generator[str, None, None]:\n",
    "    \"\"\" 用chatglm生成角色的人设描写 \"\"\"\n",
    "    \n",
    "    instruction = f\"\"\"\n",
    "请从下列文本中，抽取2位人物的人设描写。若文本中的信息，请你推测人物的性别、年龄，并生成人物角色人设。要求：\n",
    "1. 角色人设信息应包含身份、外貌、背景、性格、年龄等。\n",
    "2. 外貌描写不能包含敏感词，人物形象需得体。\n",
    "3. 尽量用短语描写，而不是完整的句子。\n",
    "4. 返回的结果格式如下： {{\n",
    "    \"bot1_name\": \"角色名1\",\n",
    "    \"bot2_name\": \"角色名2\", \n",
    "    \"bot1_info\": \"角色人设1\",\n",
    "    \"bot2_info\": \"用户人设2\"}}\n",
    "\n",
    "文本：\n",
    "{user_text}\n",
    "\"\"\"\n",
    "    return get_chatglm_response_via_sdk(\n",
    "        messages=[\n",
    "            {\n",
    "                \"role\": \"user\",\n",
    "                \"content\": instruction.strip()\n",
    "            }\n",
    "        ]\n",
    "    )"
   ]
  },
  {
   "cell_type": "code",
   "execution_count": 14,
   "id": "563d28f6-1c0a-427a-aa1d-35a4d490acdb",
   "metadata": {},
   "outputs": [],
   "source": [
    "def gen_role(user_text: str) -> Generator[str, None, None]:\n",
    "    \"\"\" 用chatglm生成角色的人设描写 并序列为dict对象\"\"\"\n",
    "    response = generate_role_info(user_text)\n",
    "    import json\n",
    "    role_obj = json.loads(\"\".join(response))\n",
    "    return role_obj"
   ]
  },
  {
   "cell_type": "code",
   "execution_count": 5,
   "id": "02abc274-a8cd-4f43-8d91-635aa9a2af2a",
   "metadata": {},
   "outputs": [],
   "source": [
    "c = \"\"\"\n",
    "剑胆琴心：琴剑江湖】\n",
    "\n",
    "角色一：柳七弦\n",
    "\n",
    "身份：江湖侠女，琴师\n",
    "\n",
    "年龄：二十三岁\n",
    "\n",
    "外貌：长发如瀑，肤白胜雪，眉目如画，一袭青衣，腰悬古琴。\n",
    "\n",
    "性格：聪慧机敏，冷静沉着，心怀仁义，对朋友极尽忠诚，对敌人则毫不留情。\n",
    "\n",
    "背景：柳七弦自幼父母双亡，被一位琴师收养，并传授琴艺。她天资聪颖，十六岁便琴艺有成，开始行走江湖。她以琴会友，以剑护身，行侠仗义，逐渐在江湖中闯出了“琴心剑胆”的名号。\n",
    "\n",
    "武器：古琴“秋水”，剑“碧落”\n",
    "\n",
    "技能：琴音武功，剑法高超\n",
    "\n",
    "角色二：风无痕\n",
    "\n",
    "身份：江湖侠客，剑客\n",
    "\n",
    "年龄：二十五岁\n",
    "\n",
    "外貌：短发利落，剑眉星目，身形矫健，一袭白衣，腰悬长剑。\n",
    "\n",
    "性格：热血仗义，直率豪爽，有些冲动，但内心善良，对朋友极尽忠诚。\n",
    "\n",
    "背景：风无痕出身江湖世家，自幼习武，剑法高超。他十八岁开始行走江湖，以剑会友，以武行侠，行侠仗义，逐渐在江湖中闯出了“无痕剑”的名号。\n",
    "\n",
    "武器：剑“无痕”\n",
    "\n",
    "技能：剑法高超，轻功了得\n",
    "\n",
    "故事梗概：\n",
    "\n",
    "柳七弦与风无痕在一次江湖风波中相识，两人志趣相投，结为好友。他们一起闯荡江湖，以琴剑结合，行侠仗义，助人解难。在一次对抗邪恶势力的战斗中，两人联手，大败敌人，保护了江湖的和平。他们的故事在江湖中流传，成为一段佳话。\n",
    "\"\"\"\n"
   ]
  },
  {
   "cell_type": "code",
   "execution_count": 33,
   "id": "b82188ba-3728-47b3-9f64-73c767012489",
   "metadata": {},
   "outputs": [],
   "source": [
    " response = generate_role_info(c)"
   ]
  },
  {
   "cell_type": "code",
   "execution_count": 34,
   "id": "51a32387-b361-430c-8e03-bb8b3840cd5f",
   "metadata": {},
   "outputs": [
    {
     "data": {
      "text/plain": [
       "<generator object get_chatglm_response_via_sdk at 0x7f7e0295b940>"
      ]
     },
     "execution_count": 34,
     "metadata": {},
     "output_type": "execute_result"
    }
   ],
   "source": [
    "response"
   ]
  },
  {
   "cell_type": "code",
   "execution_count": 35,
   "id": "f900fd23-5d58-4ac6-95b8-6647a1f6de14",
   "metadata": {},
   "outputs": [],
   "source": [
    "image_prompt = \"\".join(response)"
   ]
  },
  {
   "cell_type": "code",
   "execution_count": 36,
   "id": "7eff792d-9ab2-4bfa-8d16-a25f60cf752a",
   "metadata": {},
   "outputs": [
    {
     "data": {
      "text/plain": [
       "'{\\n    \"bot1_name\": \"柳七弦\",\\n    \"bot2_name\": \"风无痕\",\\n    \"bot1_info\": \"身份：江湖侠女，琴师；年龄：二十三岁；外貌：长发青衣，肤白眉画；性格：聪慧冷静，仁义忠诚；背景：孤儿，琴师养女，琴剑双修。\",\\n    \"bot2_info\": \"身份：江湖侠客，剑客；年龄：二十五岁；外貌：短发白衣，剑眉星目；性格：热血豪爽，冲动善良；背景：江湖世家，剑法高，轻功了得。\"\\n}'"
      ]
     },
     "execution_count": 36,
     "metadata": {},
     "output_type": "execute_result"
    }
   ],
   "source": [
    "image_prompt.strip()"
   ]
  },
  {
   "cell_type": "code",
   "execution_count": 37,
   "id": "40106cf1-44f2-49ba-8d5e-847d0abf775d",
   "metadata": {},
   "outputs": [
    {
     "name": "stdout",
     "output_type": "stream",
     "text": [
      "{\n",
      "    \"bot1_name\": \"柳七弦\",\n",
      "    \"bot2_name\": \"风无痕\",\n",
      "    \"bot1_info\": \"身份：江湖侠女，琴师；年龄：二十三岁；外貌：长发青衣，肤白眉画；性格：聪慧冷静，仁义忠诚；背景：孤儿，琴师养女，琴剑双修。\",\n",
      "    \"bot2_info\": \"身份：江湖侠客，剑客；年龄：二十五岁；外貌：短发白衣，剑眉星目；性格：热血豪爽，冲动善良；背景：江湖世家，剑法高，轻功了得。\"\n",
      "}\n"
     ]
    }
   ],
   "source": [
    "print(image_prompt)"
   ]
  },
  {
   "cell_type": "code",
   "execution_count": 38,
   "id": "e230788a-4ec4-43b0-a57e-788383ba5b55",
   "metadata": {},
   "outputs": [],
   "source": [
    "a  = gen_role(c)"
   ]
  },
  {
   "cell_type": "code",
   "execution_count": 39,
   "id": "a5379f2f-7d9b-4995-ade1-de8b9f7ed389",
   "metadata": {},
   "outputs": [
    {
     "data": {
      "text/plain": [
       "{'bot1_name': '柳七弦',\n",
       " 'bot2_name': '风无痕',\n",
       " 'bot1_info': '身份：江湖侠女，琴师；外貌：长发青衣，肤白眉画；性格：聪慧冷静，仁义忠诚；年龄：二十三岁；背景：孤儿，琴师养女，琴剑双修，江湖成名；武器：古琴‘秋水’，剑‘碧落’；技能：琴音武功，剑法高超',\n",
       " 'bot2_info': '身份：江湖侠客，剑客；外貌：短发白衣，剑眉星目；性格：热血豪爽，冲动善良；年龄：二十五岁；背景：江湖世家，剑法了得，以武会友，江湖成名；武器：剑‘无痕’；技能：剑法高超，轻功出众'}"
      ]
     },
     "execution_count": 39,
     "metadata": {},
     "output_type": "execute_result"
    }
   ],
   "source": [
    "a"
   ]
  },
  {
   "cell_type": "code",
   "execution_count": null,
   "id": "ae44c5ba-8bc3-4f41-b87d-715aeabf8bfb",
   "metadata": {},
   "outputs": [],
   "source": []
  }
 ],
 "metadata": {
  "kernelspec": {
   "display_name": "Python 3 (ipykernel)",
   "language": "python",
   "name": "python3"
  },
  "language_info": {
   "codemirror_mode": {
    "name": "ipython",
    "version": 3
   },
   "file_extension": ".py",
   "mimetype": "text/x-python",
   "name": "python",
   "nbconvert_exporter": "python",
   "pygments_lexer": "ipython3",
   "version": "3.11.5"
  }
 },
 "nbformat": 4,
 "nbformat_minor": 5
}
