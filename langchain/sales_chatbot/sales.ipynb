{
 "cells": [
  {
   "cell_type": "markdown",
   "id": "69032b4b-b031-4020-beb0-e8dfd22b660e",
   "metadata": {},
   "source": [
    "# LangChain 实战：房产销售聊天机器人"
   ]
  },
  {
   "cell_type": "markdown",
   "id": "0f3e2d5a-c2ff-4faf-b153-d1751c25fae0",
   "metadata": {},
   "source": [
    "## 使用 GPT-4 构造销售话术数据\n",
    "\n",
    "ChatGPT 分享链接：https://chat.openai.com/share/f3e4b9b0-95fb-4c6a-a3c7-f901dd194c91\n",
    "\n",
    "\n",
    "使用 ChatGPT 构造销售数据的 Prompt 示例：\n",
    "\n",
    "```\n",
    "你是中国顶级的房地产销售，现在培训职场新人，请给出100条实用的销售话术。\n",
    "\n",
    "每条销售话术以如下格式给出：\n",
    "[客户问题]\n",
    "[销售回答]\n",
    "\n",
    "```\n",
    "\n",
    "GPT-4 回复结果：\n",
    "\n",
    "```\n",
    "在房地产销售行业中，精心准备的销售话术可以极大地提高成交率。以下是一些适用于中国房地产销售的实用话术：\n",
    "\n",
    "1.  \n",
    "[客户问题] 这个小区交通便利吗？\n",
    "[销售回答] 当然了，这个小区距离地铁站只有几分钟的步行距离，而且附近有多条公交线路，非常方便。\n",
    "\n",
    "2.  \n",
    "[客户问题] 我担心楼下太吵。\n",
    "[销售回答] 这个小区特别注重居住体验，我们有良好的隔音设计，并且小区内部规划了绿化区域，可以有效降低噪音。\n",
    "\n",
    "3.  \n",
    "[客户问题] 我看房价还在涨，这个投资回报怎么样？\n",
    "[销售回答] 这个区域未来有大量的商业和基础设施建设，所以从长期来看，投资回报非常有保证。\n",
    "\n",
    "4.  \n",
    "[客户问题] 有没有学校？\n",
    "[销售回答] 附近有多所优质的学校，非常适合有孩子的家庭。\n",
    "\n",
    "5.  \n",
    "[客户问题] 物业管理怎么样？\n",
    "[销售回答] 我们的物业管理得到了业主一致好评，服务非常到位。\n",
    "\n",
    "6.  \n",
    "[客户问题] 我想要南向的房子。\n",
    "[销售回答] 很好，我们确实有一些朝南的单位，它们的采光特别好。\n",
    "\n",
    "7.  \n",
    "[客户问题] 这个小区安全吗？\n",
    "[销售回答] 当然，我们24小时安保巡逻，还有先进的监控系统。\n",
    "\n",
    "8.  \n",
    "[客户问题] 预计什么时候交房？\n",
    "[销售回答] 根据目前的进度，我们预计将在明年底交房。\n",
    "\n",
    "9.  \n",
    "[客户问题] 我不想要一楼的房子。\n",
    "[销售回答] 我理解您的顾虑，我们还有多个楼层的房源可以选择。\n",
    "\n",
    "10.  \n",
    "[客户问题] 有优惠吗？\n",
    "[销售回答] 当然，如果您现在下订，我们可以给您一些优惠。\n",
    "```\n",
    "\n",
    "\n",
    "## 使用 Document Transformers 模块来处理原始数据\n",
    "\n",
    "\n",
    "将 ChatGPT 生成的结果保存到 [real_estate_sales_data.txt](real_estate_sales_data.txt) 文件中"
   ]
  },
  {
   "cell_type": "code",
   "execution_count": 1,
   "id": "efcee928-b9f4-4e4a-b9fb-f6cbee21b642",
   "metadata": {},
   "outputs": [],
   "source": [
    "with open(\"home_decoration_data_glm4.txt\", encoding=\"utf-8\") as f:\n",
    "    real_estate_sales = f.read()"
   ]
  },
  {
   "cell_type": "markdown",
   "id": "a9119556-d2e3-4edf-be16-15837da156f1",
   "metadata": {
    "tags": []
   },
   "source": [
    "### 使用 CharacterTextSplitter 来进行文本分割\n",
    "\n",
    "- 基于单字符来进行文本分割（separator）\n",
    "- 基于字符数来决定文本块长度（chunk_size）\n",
    "\n",
    "参考示例：\n",
    "\n",
    "```python\n",
    "from langchain.text_splitter import CharacterTextSplitter\n",
    "text_splitter = CharacterTextSplitter(        \n",
    "    separator = \"\\n\\n\",\n",
    "    chunk_size = 1000,\n",
    "    chunk_overlap  = 200,\n",
    "    length_function = len,\n",
    "    is_separator_regex = False,\n",
    ")\n",
    "```\n"
   ]
  },
  {
   "cell_type": "code",
   "execution_count": 2,
   "id": "dbe535b8-2bd8-4c31-91d7-eba8aa61b3ef",
   "metadata": {},
   "outputs": [],
   "source": [
    "from langchain.text_splitter import CharacterTextSplitter"
   ]
  },
  {
   "cell_type": "code",
   "execution_count": 3,
   "id": "a4f30d9b-9fc6-4860-a497-0aa8220b9284",
   "metadata": {},
   "outputs": [],
   "source": [
    "text_splitter = CharacterTextSplitter(        \n",
    "    separator = r'\\d+\\.',\n",
    "    chunk_size = 100,\n",
    "    chunk_overlap  = 0,\n",
    "    length_function = len,\n",
    "    is_separator_regex = True,\n",
    ")"
   ]
  },
  {
   "cell_type": "code",
   "execution_count": 4,
   "id": "530f3172-17a5-4924-ad17-284fbca422ae",
   "metadata": {},
   "outputs": [],
   "source": [
    "docs = text_splitter.create_documents([real_estate_sales])"
   ]
  },
  {
   "cell_type": "code",
   "execution_count": 5,
   "id": "3956ec36-706e-4f43-88fc-d704f2984290",
   "metadata": {},
   "outputs": [
    {
     "data": {
      "text/plain": [
       "Document(page_content='[客户问题]：你们的家装设计风格有哪些？\\n[销售回答]：我们提供多种设计风格，包括现代简约、中式古典、欧式奢华等，可以根据您的喜好和需求为您量身定制。')"
      ]
     },
     "execution_count": 5,
     "metadata": {},
     "output_type": "execute_result"
    }
   ],
   "source": [
    "docs[0]"
   ]
  },
  {
   "cell_type": "code",
   "execution_count": 6,
   "id": "73b2d47a-27ae-4cd4-a72a-3809b4c22bff",
   "metadata": {},
   "outputs": [
    {
     "data": {
      "text/plain": [
       "100"
      ]
     },
     "execution_count": 6,
     "metadata": {},
     "output_type": "execute_result"
    }
   ],
   "source": [
    "len(docs)"
   ]
  },
  {
   "cell_type": "markdown",
   "id": "e4617858-ad9c-42eb-a4c3-6bfb7108cdd2",
   "metadata": {},
   "source": [
    "### 使用 Faiss 作为向量数据库，持久化存储房产销售 问答对（QA-Pair）"
   ]
  },
  {
   "cell_type": "code",
   "execution_count": 7,
   "id": "508c2ab2-e187-424f-a43c-ca3d3b1a0550",
   "metadata": {},
   "outputs": [
    {
     "name": "stderr",
     "output_type": "stream",
     "text": [
      "/root/miniconda3/lib/python3.11/site-packages/langchain_core/_api/deprecation.py:117: LangChainDeprecationWarning: The class `langchain_community.embeddings.openai.OpenAIEmbeddings` was deprecated in langchain-community 0.0.9 and will be removed in 0.2.0. An updated version of the class exists in the langchain-openai package and should be used instead. To use it run `pip install -U langchain-openai` and import as `from langchain_openai import OpenAIEmbeddings`.\n",
      "  warn_deprecated(\n"
     ]
    }
   ],
   "source": [
    "from langchain.embeddings.openai import OpenAIEmbeddings\n",
    "from langchain.text_splitter import CharacterTextSplitter\n",
    "from langchain.vectorstores import FAISS\n",
    "\n",
    "db = FAISS.from_documents(docs, OpenAIEmbeddings())"
   ]
  },
  {
   "cell_type": "code",
   "execution_count": 8,
   "id": "250e0873-95e2-4372-98a5-68c0feb304bb",
   "metadata": {},
   "outputs": [],
   "source": [
    "query = \"材料环保吗？\""
   ]
  },
  {
   "cell_type": "code",
   "execution_count": 9,
   "id": "0d18fcc6-c2be-434b-b8de-9648ac6f83f4",
   "metadata": {},
   "outputs": [],
   "source": [
    "answer_list = db.similarity_search(query)"
   ]
  },
  {
   "cell_type": "code",
   "execution_count": 10,
   "id": "e689667e-7a45-40d6-9eae-4e52cbc7daab",
   "metadata": {},
   "outputs": [
    {
     "name": "stdout",
     "output_type": "stream",
     "text": [
      "[客户问题]：你们的施工过程中会产生异味吗？\n",
      "[销售回答]：我们会使用环保材料，尽量减少施工过程中的异味。\n",
      "\n",
      "[客户问题]：你们的装修材料质量如何？\n",
      "[销售回答]：我们使用的装修材料都是经过严格筛选的优质产品，保证环保、健康、耐用，让您和家人放心入住。\n",
      "\n",
      "[客户问题]：你们提供装修后的环保检测服务吗？ \n",
      "[销售回答]：是的，我们非常重视您和您家人的健康，装修完成后会提供室内空气质量检测服务，确保装修材料和环境安全达标，让您住得安心。\n",
      "\n",
      "[客户问题]：你们的装修服务包括环保检测吗？\n",
      "[销售回答]：我们非常重视环保，装修完成后会提供室内空气质量检测服务，确保您的居住环境安全健康。\n",
      "\n"
     ]
    }
   ],
   "source": [
    "for ans in answer_list:\n",
    "    print(ans.page_content + \"\\n\")"
   ]
  },
  {
   "cell_type": "code",
   "execution_count": 11,
   "id": "a6cc47bf-1566-472f-84d2-a46bd634907c",
   "metadata": {},
   "outputs": [],
   "source": [
    "db.save_local(\"home_decoration_sale\")"
   ]
  },
  {
   "cell_type": "markdown",
   "id": "0d5323e5-03fa-4c1c-b896-3ccc28af1857",
   "metadata": {},
   "source": [
    "### 使用 retriever 从向量数据库中获取结果\n",
    "\n",
    "#### 使用参数 `k` 指定返回结果数量\n"
   ]
  },
  {
   "cell_type": "code",
   "execution_count": 12,
   "id": "17f051c9-8676-48d1-a9a4-e69b52630faf",
   "metadata": {},
   "outputs": [],
   "source": [
    "# 实例化一个 TopK Retriever\n",
    "topK_retriever = db.as_retriever(search_kwargs={\"k\": 3})"
   ]
  },
  {
   "cell_type": "code",
   "execution_count": 13,
   "id": "e33024db-ca7b-4d68-9b0e-c31c15ded57d",
   "metadata": {},
   "outputs": [
    {
     "data": {
      "text/plain": [
       "VectorStoreRetriever(tags=['FAISS', 'OpenAIEmbeddings'], vectorstore=<langchain_community.vectorstores.faiss.FAISS object at 0x7f6a7ffedc50>, search_kwargs={'k': 3})"
      ]
     },
     "execution_count": 13,
     "metadata": {},
     "output_type": "execute_result"
    }
   ],
   "source": [
    "topK_retriever"
   ]
  },
  {
   "cell_type": "code",
   "execution_count": 14,
   "id": "7efb1414-859f-4818-bacd-e1e2edf34b95",
   "metadata": {},
   "outputs": [
    {
     "name": "stdout",
     "output_type": "stream",
     "text": [
      "[客户问题]：你们的施工过程中会产生异味吗？\n",
      "[销售回答]：我们会使用环保材料，尽量减少施工过程中的异味。\n",
      "\n",
      "[客户问题]：你们的装修材料质量如何？\n",
      "[销售回答]：我们使用的装修材料都是经过严格筛选的优质产品，保证环保、健康、耐用，让您和家人放心入住。\n",
      "\n",
      "[客户问题]：你们提供装修后的环保检测服务吗？ \n",
      "[销售回答]：是的，我们非常重视您和您家人的健康，装修完成后会提供室内空气质量检测服务，确保装修材料和环境安全达标，让您住得安心。\n",
      "\n"
     ]
    }
   ],
   "source": [
    "docs = topK_retriever.get_relevant_documents(query)\n",
    "for doc in docs:\n",
    "    print(doc.page_content + \"\\n\")"
   ]
  },
  {
   "cell_type": "code",
   "execution_count": 15,
   "id": "a3c4b62d-6f8f-461b-a4fb-41c8a404b831",
   "metadata": {},
   "outputs": [],
   "source": [
    "docs = topK_retriever.get_relevant_documents(\"你们装修要多久？\")"
   ]
  },
  {
   "cell_type": "code",
   "execution_count": 16,
   "id": "04cca3d7-23d9-491f-8350-faeb19861dec",
   "metadata": {},
   "outputs": [
    {
     "name": "stdout",
     "output_type": "stream",
     "text": [
      "[客户问题]：你们的工期需要多久？\n",
      "[销售回答]：我们的工期根据工程量和施工难度而定，但我们会合理安排，确保按时完工。\n",
      "\n",
      "[客户问题]：你们的装修效果能保证吗？\n",
      "[销售回答]：我们的设计团队会根据您的需求进行精心设计，施工团队严格按照设计方案进行施工，保证装修效果符合您的预期。\n",
      "\n",
      "[客户问题]：你们的施工过程中会有改动吗？\n",
      "[销售回答]：我们会根据实际情况进行合理的改动，确保装修效果。\n",
      "\n"
     ]
    }
   ],
   "source": [
    "for doc in docs:\n",
    "    print(doc.page_content + \"\\n\")"
   ]
  },
  {
   "cell_type": "markdown",
   "id": "b335c9e5-bc01-4a47-916c-03bec0e7a839",
   "metadata": {},
   "source": [
    "#### 使用 similarity_score_threshold 设置阈值，提升结果的相关性质量"
   ]
  },
  {
   "cell_type": "code",
   "execution_count": 17,
   "id": "b1298956-6cf3-4a68-a3c2-a3149f64f156",
   "metadata": {},
   "outputs": [],
   "source": [
    "# 实例化一个 similarity_score_threshold Retriever\n",
    "retriever = db.as_retriever(\n",
    "    search_type=\"similarity_score_threshold\",\n",
    "    search_kwargs={\"score_threshold\": 0.8}\n",
    ")"
   ]
  },
  {
   "cell_type": "code",
   "execution_count": 18,
   "id": "d61167de-72ed-4618-a2e1-5df04784a3bc",
   "metadata": {},
   "outputs": [
    {
     "name": "stdout",
     "output_type": "stream",
     "text": [
      "[客户问题]：你们的施工过程中会产生异味吗？\n",
      "[销售回答]：我们会使用环保材料，尽量减少施工过程中的异味。\n",
      "\n",
      "[客户问题]：你们的装修材料质量如何？\n",
      "[销售回答]：我们使用的装修材料都是经过严格筛选的优质产品，保证环保、健康、耐用，让您和家人放心入住。\n",
      "\n"
     ]
    }
   ],
   "source": [
    "docs = retriever.get_relevant_documents(query)\n",
    "for doc in docs:\n",
    "    print(doc.page_content + \"\\n\")"
   ]
  },
  {
   "cell_type": "code",
   "execution_count": null,
   "id": "548d1b52-6fa2-46d6-9218-908db572f380",
   "metadata": {},
   "outputs": [],
   "source": []
  },
  {
   "cell_type": "markdown",
   "id": "c31344ce-f952-4604-b700-fdbb34da1e28",
   "metadata": {},
   "source": [
    "### 提取向量数据库中的`销售回答`"
   ]
  },
  {
   "cell_type": "code",
   "execution_count": 19,
   "id": "25768463-da65-4762-978d-51c0c3a9c24b",
   "metadata": {},
   "outputs": [],
   "source": [
    "docs = retriever.get_relevant_documents(query)"
   ]
  },
  {
   "cell_type": "code",
   "execution_count": 20,
   "id": "4838d3da-dca3-4c31-80da-cec75760a833",
   "metadata": {},
   "outputs": [
    {
     "data": {
      "text/plain": [
       "'[客户问题]：你们的施工过程中会产生异味吗？\\n[销售回答]：我们会使用环保材料，尽量减少施工过程中的异味。'"
      ]
     },
     "execution_count": 20,
     "metadata": {},
     "output_type": "execute_result"
    }
   ],
   "source": [
    "docs[0].page_content"
   ]
  },
  {
   "cell_type": "code",
   "execution_count": 21,
   "id": "1ba30232-f468-4102-b70c-02c8b74da43d",
   "metadata": {},
   "outputs": [
    {
     "data": {
      "text/plain": [
       "['[客户问题]：你们的施工过程中会产生异味吗？\\n', '我们会使用环保材料，尽量减少施工过程中的异味。']"
      ]
     },
     "execution_count": 21,
     "metadata": {},
     "output_type": "execute_result"
    }
   ],
   "source": [
    "docs[0].page_content.split(\"[销售回答]：\")"
   ]
  },
  {
   "cell_type": "code",
   "execution_count": 22,
   "id": "bda8eb0c-eb1f-47b2-91ab-4c94ff71c3db",
   "metadata": {},
   "outputs": [],
   "source": [
    "ans = docs[0].page_content.split(\"[销售回答]：\")[-1]"
   ]
  },
  {
   "cell_type": "code",
   "execution_count": 23,
   "id": "917a3b6c-3149-42e2-b7b6-abebd94b7f72",
   "metadata": {},
   "outputs": [
    {
     "data": {
      "text/plain": [
       "'我们会使用环保材料，尽量减少施工过程中的异味。'"
      ]
     },
     "execution_count": 23,
     "metadata": {},
     "output_type": "execute_result"
    }
   ],
   "source": [
    "ans"
   ]
  },
  {
   "cell_type": "markdown",
   "id": "b36b61a5-156d-4546-bbd1-8a983e94676b",
   "metadata": {},
   "source": [
    "#### 尝试各种问题"
   ]
  },
  {
   "cell_type": "code",
   "execution_count": 24,
   "id": "c311a656-e571-45d6-8690-88e4be2c2a65",
   "metadata": {},
   "outputs": [],
   "source": [
    "from typing import List\n",
    "\n",
    "def sales(query: str, score_threshold: float=0.8) -> List[str]:\n",
    "    retriever = db.as_retriever(search_type=\"similarity_score_threshold\", search_kwargs={\"score_threshold\": score_threshold})    \n",
    "    docs = retriever.get_relevant_documents(query)\n",
    "    ans_list = [doc.page_content.split(\"[销售回答]：\")[-1] for doc in docs]\n",
    "\n",
    "    return ans_list"
   ]
  },
  {
   "cell_type": "code",
   "execution_count": 25,
   "id": "2f4c6c08-b97c-4727-9aa1-a474d85a11e4",
   "metadata": {},
   "outputs": [
    {
     "name": "stdout",
     "output_type": "stream",
     "text": [
      "['我们会使用环保材料，尽量减少施工过程中的异味。', '我们使用的装修材料都是经过严格筛选的优质产品，保证环保、健康、耐用，让您和家人放心入住。']\n"
     ]
    }
   ],
   "source": [
    "query = \"材料环保吗？\"\n",
    "\n",
    "print(sales(query))"
   ]
  },
  {
   "cell_type": "code",
   "execution_count": 26,
   "id": "11e3d8b6-839f-4b2f-b519-841e0271f95b",
   "metadata": {},
   "outputs": [
    {
     "name": "stdout",
     "output_type": "stream",
     "text": [
      "['我们会使用环保材料，尽量减少施工过程中的异味。', '我们使用的装修材料都是经过严格筛选的优质产品，保证环保、健康、耐用，让您和家人放心入住。', '是的，我们非常重视您和您家人的健康，装修完成后会提供室内空气质量检测服务，确保装修材料和环境安全达标，让您住得安心。', '我们非常重视环保，装修完成后会提供室内空气质量检测服务，确保您的居住环境安全健康。']\n"
     ]
    }
   ],
   "source": [
    "print(sales(query, 0.75))"
   ]
  },
  {
   "cell_type": "code",
   "execution_count": 27,
   "id": "fc5b030a-ae6f-4d42-9577-1420c78aecb1",
   "metadata": {},
   "outputs": [
    {
     "name": "stdout",
     "output_type": "stream",
     "text": [
      "score:0.8 ans: ['我们会使用环保材料，尽量减少施工过程中的异味。', '我们使用的装修材料都是经过严格筛选的优质产品，保证环保、健康、耐用，让您和家人放心入住。']\n",
      "\n",
      "score:0.75 ans: ['我们会使用环保材料，尽量减少施工过程中的异味。', '我们使用的装修材料都是经过严格筛选的优质产品，保证环保、健康、耐用，让您和家人放心入住。', '是的，我们非常重视您和您家人的健康，装修完成后会提供室内空气质量检测服务，确保装修材料和环境安全达标，让您住得安心。', '我们非常重视环保，装修完成后会提供室内空气质量检测服务，确保您的居住环境安全健康。']\n",
      "\n",
      "score:0.5 ans: ['我们会使用环保材料，尽量减少施工过程中的异味。', '我们使用的装修材料都是经过严格筛选的优质产品，保证环保、健康、耐用，让您和家人放心入住。', '是的，我们非常重视您和您家人的健康，装修完成后会提供室内空气质量检测服务，确保装修材料和环境安全达标，让您住得安心。', '我们非常重视环保，装修完成后会提供室内空气质量检测服务，确保您的居住环境安全健康。']\n",
      "\n"
     ]
    }
   ],
   "source": [
    "query = \"材料环保吗？\"\n",
    "\n",
    "print(f\"score:0.8 ans: {sales(query)}\\n\")\n",
    "print(f\"score:0.75 ans: {sales(query, 0.75)}\\n\")\n",
    "print(f\"score:0.5 ans: {sales(query, 0.5)}\\n\")"
   ]
  },
  {
   "cell_type": "markdown",
   "id": "9e26e6d7-259b-4ecf-9c72-027befba4e3b",
   "metadata": {},
   "source": [
    "#### 当向量数据库中没有合适答案时，使用大语言模型能力"
   ]
  },
  {
   "cell_type": "code",
   "execution_count": 28,
   "id": "9142feb4-980a-4142-b367-1401021dceef",
   "metadata": {},
   "outputs": [],
   "source": [
    "from langchain.chains import RetrievalQA\n",
    "from langchain_openai import ChatOpenAI\n",
    "\n",
    "llm = ChatOpenAI(model_name=\"gpt-3.5-turbo\", temperature=0.5)\n",
    "qa_chain = RetrievalQA.from_chain_type(llm,\n",
    "                                       retriever=db.as_retriever(search_type=\"similarity_score_threshold\",\n",
    "                                                                 search_kwargs={\"score_threshold\": 0.8}))"
   ]
  },
  {
   "cell_type": "code",
   "execution_count": 29,
   "id": "d281b560-54bb-4a25-a1dc-b23874361654",
   "metadata": {},
   "outputs": [
    {
     "name": "stderr",
     "output_type": "stream",
     "text": [
      "/root/miniconda3/lib/python3.11/site-packages/langchain_core/_api/deprecation.py:117: LangChainDeprecationWarning: The function `__call__` was deprecated in LangChain 0.1.0 and will be removed in 0.2.0. Use invoke instead.\n",
      "  warn_deprecated(\n"
     ]
    },
    {
     "data": {
      "text/plain": [
       "{'query': '材料一定要环保？',\n",
       " 'result': '是的，对于许多项目来说，使用环保材料是一种常见的做法。环保材料可以减少对环境和人体健康的负面影响，并且在施工过程中能够减少异味的产生。'}"
      ]
     },
     "execution_count": 29,
     "metadata": {},
     "output_type": "execute_result"
    }
   ],
   "source": [
    "qa_chain({\"query\": \"材料一定要环保？\"})"
   ]
  },
  {
   "cell_type": "code",
   "execution_count": 30,
   "id": "c6a30dcc-fa6b-4282-935c-b07902746e19",
   "metadata": {},
   "outputs": [
    {
     "data": {
      "text/plain": [
       "{'query': '装修有哪些风格',\n",
       " 'result': '我们提供多种设计风格，包括现代简约、中式古典、欧式奢华等，可以根据您的喜好和需求为您量身定制。'}"
      ]
     },
     "execution_count": 30,
     "metadata": {},
     "output_type": "execute_result"
    }
   ],
   "source": [
    "qa_chain({\"query\": \"装修有哪些风格\"})"
   ]
  },
  {
   "cell_type": "code",
   "execution_count": 31,
   "id": "9da44bd6-02ef-4fb6-8e9e-7c99aeba483a",
   "metadata": {},
   "outputs": [
    {
     "name": "stdout",
     "output_type": "stream",
     "text": [
      "['我们提供多种设计风格，包括现代简约、中式古典、欧式奢华等，可以根据您的喜好和需求为您量身定制。']\n"
     ]
    }
   ],
   "source": [
    "print(sales(\"装修有哪些风格\"))"
   ]
  },
  {
   "cell_type": "code",
   "execution_count": null,
   "id": "9764bb10-44ed-47c9-a351-a68f4f7d4f44",
   "metadata": {},
   "outputs": [],
   "source": []
  },
  {
   "cell_type": "markdown",
   "id": "0a0647e8-5b41-4c93-87c2-3240ec558717",
   "metadata": {},
   "source": [
    "## 加载 FAISS 向量数据库已有结果"
   ]
  },
  {
   "cell_type": "code",
   "execution_count": 32,
   "id": "913edd04-37ea-4c3f-9346-086aeb0ab447",
   "metadata": {},
   "outputs": [],
   "source": [
    "from langchain_openai import OpenAIEmbeddings\n",
    "from langchain.vectorstores import FAISS\n",
    "\n",
    "db = FAISS.load_local(\"home_decoration_sale\", OpenAIEmbeddings(),allow_dangerous_deserialization=True)"
   ]
  },
  {
   "cell_type": "code",
   "execution_count": 33,
   "id": "77d8eee4-6383-4b4a-9737-95ea9fc53b87",
   "metadata": {},
   "outputs": [
    {
     "name": "stderr",
     "output_type": "stream",
     "text": [
      "/root/miniconda3/lib/python3.11/site-packages/langchain_core/_api/deprecation.py:117: LangChainDeprecationWarning: The class `langchain_community.chat_models.openai.ChatOpenAI` was deprecated in langchain-community 0.0.10 and will be removed in 0.2.0. An updated version of the class exists in the langchain-openai package and should be used instead. To use it run `pip install -U langchain-openai` and import as `from langchain_openai import ChatOpenAI`.\n",
      "  warn_deprecated(\n"
     ]
    }
   ],
   "source": [
    "from langchain.chains import RetrievalQA\n",
    "from langchain.chat_models import ChatOpenAI\n",
    "\n",
    "llm = ChatOpenAI(model_name=\"gpt-3.5-turbo\", temperature=0.5)\n",
    "qa_chain = RetrievalQA.from_chain_type(llm,\n",
    "                                       retriever=db.as_retriever(search_type=\"similarity_score_threshold\",\n",
    "                                                                 search_kwargs={\"score_threshold\": 0.8}))"
   ]
  },
  {
   "cell_type": "code",
   "execution_count": 34,
   "id": "5dfac197-cadb-47d7-8cbe-1b07a83fc8e1",
   "metadata": {},
   "outputs": [
    {
     "data": {
      "text/plain": [
       "{'query': '我想要中式简约，符合年轻人得装修风格',\n",
       " 'result': '中式简约是一种非常适合年轻人的装修风格，它融合了传统中式元素和现代简约风格，给人一种清新、自然的感觉。这种风格通常注重线条简洁、色彩淡雅，同时保留了一些传统中式家居元素，如木质家具、自然材料和文化装饰等。你可以选择一些简约但具有中式特色的家具，如实木家具或者带有中式图案的软装饰品，来营造出与众不同的空间氛围。'}"
      ]
     },
     "execution_count": 34,
     "metadata": {},
     "output_type": "execute_result"
    }
   ],
   "source": [
    "qa_chain({\"query\": \"我想要中式简约，符合年轻人得装修风格\"})"
   ]
  },
  {
   "cell_type": "code",
   "execution_count": 35,
   "id": "fc393afc-06d3-4483-bd24-efe000ef5f2a",
   "metadata": {},
   "outputs": [],
   "source": [
    "# 输出内部 Chain 的日志\n",
    "qa_chain.combine_documents_chain.verbose = True"
   ]
  },
  {
   "cell_type": "code",
   "execution_count": 36,
   "id": "013c313a-5e7c-48d1-8ed4-eee96e50a99c",
   "metadata": {},
   "outputs": [
    {
     "name": "stdout",
     "output_type": "stream",
     "text": [
      "\n",
      "\n",
      "\u001b[1m> Entering new StuffDocumentsChain chain...\u001b[0m\n",
      "\n",
      "\u001b[1m> Finished chain.\u001b[0m\n"
     ]
    },
    {
     "data": {
      "text/plain": [
       "{'query': '我想要中式简约，符合年轻人得装修风格',\n",
       " 'result': '根据你的需求，中式简约可能是个不错的选择。这种风格融合了传统中式元素，但又不失现代简约的特点，适合年轻人的审美。可以选择一些简洁而又具有中式特色的家具和装饰，如红木家具、汉白玉等，同时注重空间的整体布局和色彩的搭配，营造出舒适、清新的居家氛围。'}"
      ]
     },
     "execution_count": 36,
     "metadata": {},
     "output_type": "execute_result"
    }
   ],
   "source": [
    "qa_chain({\"query\": \"我想要中式简约，符合年轻人得装修风格\"})"
   ]
  },
  {
   "cell_type": "code",
   "execution_count": 37,
   "id": "e5fb0943-ffe9-4270-8dbe-f5f5314e6042",
   "metadata": {},
   "outputs": [],
   "source": [
    "# 返回向量数据库的检索结果\n",
    "qa_chain.return_source_documents = True"
   ]
  },
  {
   "cell_type": "code",
   "execution_count": 38,
   "id": "fbc1741e-d34f-4df5-874b-02b78e8cd67a",
   "metadata": {},
   "outputs": [
    {
     "name": "stdout",
     "output_type": "stream",
     "text": [
      "\n",
      "\n",
      "\u001b[1m> Entering new StuffDocumentsChain chain...\u001b[0m\n",
      "\n",
      "\u001b[1m> Finished chain.\u001b[0m\n"
     ]
    }
   ],
   "source": [
    "result = qa_chain({\"query\": \"我想要中式简约，符合年轻人得装修风格\"})"
   ]
  },
  {
   "cell_type": "code",
   "execution_count": 39,
   "id": "fac8309c-033c-4144-ada0-08e74fa9bf2d",
   "metadata": {},
   "outputs": [
    {
     "data": {
      "text/plain": [
       "{'query': '我想要中式简约，符合年轻人得装修风格',\n",
       " 'result': '我们公司有适合年轻人的中式简约风格，它将传统的中式元素与简约现代的设计理念相结合，给人一种清新、自然的感觉。这种风格通常会注重线条的简洁与空间的通透感，同时保留了一些传统的中式装饰元素，如木质家具、青花瓷等，但以简约的方式呈现，适合年轻人追求简约时尚的品味。',\n",
       " 'source_documents': [Document(page_content='[客户问题]：你们的家装设计风格有哪些？\\n[销售回答]：我们提供多种设计风格，包括现代简约、中式古典、欧式奢华等，可以根据您的喜好和需求为您量身定制。')]}"
      ]
     },
     "execution_count": 39,
     "metadata": {},
     "output_type": "execute_result"
    }
   ],
   "source": [
    "result"
   ]
  },
  {
   "cell_type": "code",
   "execution_count": null,
   "id": "37de84df-999f-4469-9bbe-de9c95c6f6b3",
   "metadata": {},
   "outputs": [],
   "source": []
  }
 ],
 "metadata": {
  "kernelspec": {
   "display_name": "Python 3 (ipykernel)",
   "language": "python",
   "name": "python3"
  },
  "language_info": {
   "codemirror_mode": {
    "name": "ipython",
    "version": 3
   },
   "file_extension": ".py",
   "mimetype": "text/x-python",
   "name": "python",
   "nbconvert_exporter": "python",
   "pygments_lexer": "ipython3",
   "version": "3.11.5"
  }
 },
 "nbformat": 4,
 "nbformat_minor": 5
}
