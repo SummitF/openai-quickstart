{
 "cells": [
  {
   "cell_type": "markdown",
   "id": "d9c751ec-c03a-478a-bdfc-81c158345f3c",
   "metadata": {},
   "source": [
    "# Homework: 用ChatGLM实现带图形化得openai-translator\n",
    "\n",
    "## 第一步：运行ChatGLM3-6B server 或者ChatGLM2-6B\n",
    "详情参考对应的GitHub 仓库。\n",
    "* ChatGLM2-6B\n",
    "  ```python api.py```\n",
    "* ChatGLM3-6B\n",
    "  ```python openai_api_demo/api_server.py```\n",
    "\n",
    "## 第二步：参考下方代码验证Langchain 调用ChatGLM3-6B\n",
    "[doc](https://python.langchain.com/docs/integrations/llms/chatglm/#chatglm3)\n",
    "\n",
    "## 第三步：修改config.yaml的model为chatglm3-6B,运行客户端\n",
    "```\n",
    "python ai_translator/gradio_server.py\n",
    "```\n"
   ]
  },
  {
   "cell_type": "markdown",
   "id": "24ef3a86-b888-4531-8e85-6466674aa5c8",
   "metadata": {},
   "source": [
    "# ChatGLM3"
   ]
  },
  {
   "cell_type": "code",
   "execution_count": 1,
   "id": "997ba842-3b1c-4888-90ab-99dbb703bc5a",
   "metadata": {},
   "outputs": [],
   "source": [
    "from langchain.chains import LLMChain\n",
    "from langchain.schema.messages import AIMessage\n",
    "from langchain_community.llms.chatglm3 import ChatGLM3\n",
    "from langchain_core.prompts import PromptTemplate"
   ]
  },
  {
   "cell_type": "code",
   "execution_count": 2,
   "id": "d196872a-a716-4455-aa26-dc7b445bfa16",
   "metadata": {},
   "outputs": [],
   "source": [
    "template = \"\"\"{question}\"\"\"\n",
    "prompt = PromptTemplate.from_template(template)"
   ]
  },
  {
   "cell_type": "code",
   "execution_count": 3,
   "id": "a7357d4b-930a-407b-b3e6-a13f22511c56",
   "metadata": {},
   "outputs": [],
   "source": [
    "endpoint_url = \"http://127.0.0.1:8000/v1/chat/completions\"\n",
    "\n",
    "messages = [\n",
    "    AIMessage(content=\"我将从美国到中国来旅游，出行前希望了解中国的城市\"),\n",
    "    AIMessage(content=\"欢迎问我任何问题。\"),\n",
    "]\n",
    "\n",
    "llm = ChatGLM3(\n",
    "    endpoint_url=endpoint_url,\n",
    "    max_tokens=80000,\n",
    "    prefix_messages=messages,\n",
    "    top_p=0.9,\n",
    ")"
   ]
  },
  {
   "cell_type": "code",
   "execution_count": 4,
   "id": "c070e071-87a2-473c-a082-a6e617c6916c",
   "metadata": {},
   "outputs": [
    {
     "name": "stderr",
     "output_type": "stream",
     "text": [
      "/root/miniconda3/lib/python3.10/site-packages/langchain_core/_api/deprecation.py:119: LangChainDeprecationWarning: The method `Chain.run` was deprecated in langchain 0.1.0 and will be removed in 0.2.0. Use invoke instead.\n",
      "  warn_deprecated(\n"
     ]
    },
    {
     "data": {
      "text/plain": [
       "'北京和上海是中国两个不同的城市,它们之间有许多不同之处。\\n\\n北京是中国的首都,有着悠久的历史和文化底蕴。它拥有许多古老的建筑和文化遗产,如故宫、天安门、颐和园等,也是中国的政治、文化和教育中心。北京还是中国著名的美食之都,有许多特色小吃和餐馆。\\n\\n上海则是一个现代化的城市,是中国经济最发达的城市之一。它拥有许多高楼大厦和国际化的生活方式,是全球著名的商业和金融中心。上海也有许多著名的旅游景点,如外滩、东方明珠、南京路步行街等。此外,上海的美食也非常多样化,既有传统的中华美食,也有国际化的西餐和日料。\\n\\n北京和上海都是中国著名的城市,每个城市都有自己独特的魅力和特色。'"
      ]
     },
     "execution_count": 4,
     "metadata": {},
     "output_type": "execute_result"
    }
   ],
   "source": [
    "llm_chain = LLMChain(prompt=prompt, llm=llm)\n",
    "question = \"北京和上海两座城市有什么不同？\"\n",
    "\n",
    "llm_chain.run(question)"
   ]
  },
  {
   "cell_type": "markdown",
   "id": "66717dee-dc45-422d-9581-08fed15943e8",
   "metadata": {},
   "source": [
    "## ChatGLM and ChatGLM2\n"
   ]
  },
  {
   "cell_type": "code",
   "execution_count": 5,
   "id": "f706ab4b-2e76-4dcd-8d7e-242172b19343",
   "metadata": {},
   "outputs": [],
   "source": [
    "from langchain.chains import LLMChain\n",
    "from langchain_community.llms import ChatGLM\n",
    "from langchain_core.prompts import PromptTemplate\n",
    "\n",
    "# import os"
   ]
  },
  {
   "cell_type": "code",
   "execution_count": 6,
   "id": "b4de8085-a4cb-46c7-a190-b66238c03f96",
   "metadata": {},
   "outputs": [],
   "source": [
    "template = \"\"\"{question}\"\"\"\n",
    "prompt = PromptTemplate.from_template(template)"
   ]
  },
  {
   "cell_type": "code",
   "execution_count": 7,
   "id": "42e01410-3905-4f3d-8258-0b50428dfac8",
   "metadata": {},
   "outputs": [],
   "source": [
    "# default endpoint_url for a local deployed ChatGLM api server\n",
    "endpoint_url = \"http://127.0.0.1:8001\"\n",
    "\n",
    "# direct access endpoint in a proxied environment\n",
    "# os.environ['NO_PROXY'] = '127.0.0.1'\n",
    "\n",
    "llm = ChatGLM(\n",
    "    endpoint_url=endpoint_url,\n",
    "    max_token=80000,\n",
    "    history=[\n",
    "        [\"我将从美国到中国来旅游，出行前希望了解中国的城市\", \"欢迎问我任何问题。\"]\n",
    "    ],\n",
    "    top_p=0.9,\n",
    "    model_kwargs={\"sample_model_args\": False},\n",
    ")\n",
    "\n",
    "# turn on with_history only when you want the LLM object to keep track of the conversation history\n",
    "# and send the accumulated context to the backend model api, which make it stateful. By default it is stateless.\n",
    "# llm.with_history = True"
   ]
  },
  {
   "cell_type": "code",
   "execution_count": 8,
   "id": "fd70bb70-d246-4b0c-ae42-8e3c29c7b2ae",
   "metadata": {},
   "outputs": [],
   "source": [
    "llm_chain = LLMChain(prompt=prompt, llm=llm)"
   ]
  },
  {
   "cell_type": "code",
   "execution_count": 9,
   "id": "b5fbd85d-1059-459b-a78d-e2b908100125",
   "metadata": {},
   "outputs": [
    {
     "data": {
      "text/plain": [
       "'北京和上海是中国的两个首都，它们在许多方面都有所不同。\\n\\n北京是中国的政治和文化中心，拥有悠久的历史和文化遗产。它是中国最重要的古都之一，也是中国最具文化底蕴的城市之一。北京有许多著名的旅游景点，如故宫、长城、颐和园和天安门广场等。\\n\\n上海是中国最现代化的城市之一，也是中国最重要的经济中心之一。上海拥有许多国际知名的企业和金融机构，同时也有许多著名的旅游景点，如东方明珠塔、外滩和南京路等。\\n\\n除了文化和历史差异外，北京和上海在交通和建筑方面也有很大的不同。北京是中国的古都，拥有许多古老的建筑和文化遗产，同时也有许多现代化的建筑和交通工具。上海是中国最发达的城市之一，拥有许多国际知名的建筑和交通工具，如高铁、地铁和出租车等。\\n\\n北京和上海都是中国最重要的城市之一，它们在文化、经济和交通等方面都具有很大的影响力。'"
      ]
     },
     "execution_count": 9,
     "metadata": {},
     "output_type": "execute_result"
    }
   ],
   "source": [
    "question = \"北京和上海两座城市有什么不同？\"\n",
    "\n",
    "llm_chain.run(question)"
   ]
  },
  {
   "cell_type": "code",
   "execution_count": null,
   "id": "66a45cb3-39e7-4e32-ab13-99957dd205ac",
   "metadata": {},
   "outputs": [],
   "source": []
  }
 ],
 "metadata": {
  "kernelspec": {
   "display_name": "Python 3 (ipykernel)",
   "language": "python",
   "name": "python3"
  },
  "language_info": {
   "codemirror_mode": {
    "name": "ipython",
    "version": 3
   },
   "file_extension": ".py",
   "mimetype": "text/x-python",
   "name": "python",
   "nbconvert_exporter": "python",
   "pygments_lexer": "ipython3",
   "version": "3.10.8"
  },
  "widgets": {
   "application/vnd.jupyter.widget-state+json": {
    "state": {},
    "version_major": 2,
    "version_minor": 0
   }
  }
 },
 "nbformat": 4,
 "nbformat_minor": 5
}
